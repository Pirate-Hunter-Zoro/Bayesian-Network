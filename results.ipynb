{
 "cells": [
  {
   "cell_type": "markdown",
   "metadata": {},
   "source": [
    "# This notebook displays the results and runtimes for the various algorithms on various graph sizes"
   ]
  },
  {
   "cell_type": "code",
   "execution_count": null,
   "metadata": {},
   "outputs": [],
   "source": [
    "# Results for likelihood weighting...\n",
    "Variables=[1, 3]\n",
    "Probabilities=[6.10465120e-04, 9.43689560e-01, 3.16841807e-03, 5.25315572e-02]\n",
    "Runtime=0.304179375001695\n",
    "\n",
    "\n",
    "Variables=[4, 5, 7]\n",
    "Probabilities=[0.07276888, 0.05038695, 0.00179773, 0.00103457, 0.53018205, 0.3208686,\n",
    " 0.01446551, 0.00849571]\n",
    "Runtime=0.3031924590031849\n",
    "\n",
    "\n",
    "Variables=[2, 6, 10, 12]\n",
    "Probabilities=[0.00706213, 0.00418688, 0.02848389, 0.01688707, 0.00517347, 0.00306717,\n",
    " 0.01867208, 0.01107,    0.07072751, 0.04193179, 0.26025721, 0.15429712,\n",
    " 0.05689278, 0.03372968, 0.18053092, 0.10703028]\n",
    "Runtime=0.37566495800274424\n"
   ]
  }
 ],
 "metadata": {
  "kernelspec": {
   "display_name": "venv",
   "language": "python",
   "name": "python3"
  },
  "language_info": {
   "name": "python",
   "version": "3.10.16"
  }
 },
 "nbformat": 4,
 "nbformat_minor": 2
}
