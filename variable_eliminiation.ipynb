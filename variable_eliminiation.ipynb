{
 "cells": [
  {
   "cell_type": "markdown",
   "metadata": {},
   "source": [
    "# We want to be able to create any conditional probability distribution given a Bayesian Network..."
   ]
  },
  {
   "cell_type": "markdown",
   "metadata": {},
   "source": [
    "## This notebook will do so using exact methods - namely variable elimination."
   ]
  },
  {
   "cell_type": "code",
   "execution_count": null,
   "metadata": {},
   "outputs": [],
   "source": [
    "import numpy as np\n",
    "\n",
    "def query_distribution(queries: list[int], evidence: list[tuple[int,int]], network: dict[str,dict[str,list]]) -> np.ndarray:\n",
    "    \"\"\"Given a list of query variables and evidence variables, find the conditional probabilities of all combinations of the query variables given the evidence variables\n",
    "\n",
    "    Args:\n",
    "        queries (list[int]): _description_\n",
    "        evidence (list[tuple[int,int]]): _description_\n",
    "        network (dict[str,dict[str,list]]): _description_\n",
    "\n",
    "    Returns:\n",
    "        np.ndarray: _description_\n",
    "    \"\"\""
   ]
  },
  {
   "cell_type": "code",
   "execution_count": null,
   "metadata": {},
   "outputs": [],
   "source": [
    "import json\n",
    "\n",
    "# read in the dictionary\n",
    "bayesian_network = json.load(\"bn_test.json\")"
   ]
  }
 ],
 "metadata": {
  "kernelspec": {
   "display_name": "venv",
   "language": "python",
   "name": "python3"
  },
  "language_info": {
   "name": "python",
   "version": "3.10.16"
  }
 },
 "nbformat": 4,
 "nbformat_minor": 2
}
