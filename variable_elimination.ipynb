{
 "cells": [
  {
   "cell_type": "markdown",
   "metadata": {},
   "source": [
    "## Implementation of Variable Elimination to approximate probability queries from a Bayesian Network."
   ]
  },
  {
   "cell_type": "code",
   "execution_count": 11,
   "metadata": {},
   "outputs": [],
   "source": [
    "# Given an arbitrary Bayesian Network, an arbitrary set of query variables, and arbitrary evidence, we want to be able to calculate the probability of said variable...\n",
    "import numpy as np\n",
    "\n",
    "def join(first: np.ndarray, second: np.ndarray, row_pairings: dict[int,list[int]]) -> np.ndarray:\n",
    "    \"\"\"Given two distributions and the variable to to join on, join the two distributions into a third\n",
    "\n",
    "    Args:\n",
    "        first (np.ndarray): first distribution (smaller or same size)\n",
    "        second (np.ndarray): second distribution (larger or same size)\n",
    "        row_pairings (dict[int,list[int]]): map of rows of smaller first distribution mapping to rows of second distribution they will multiply\n",
    "\n",
    "    Returns:\n",
    "        np.ndarray: resulting distribution after joining\n",
    "    \"\"\"\n",
    "    result = np.zeros(second.shape)\n",
    "    for first_index, second_indices in row_pairings.items():\n",
    "        for s in second_indices:\n",
    "            result[s] += first[first_index] * second[s]\n",
    "    return result\n",
    "\n",
    "def eliminate(distribution: np.ndarray, pairings: list[tuple[int,int]]) -> np.ndarray:\n",
    "    \"\"\"eliminate a variable by summing over the distribution at the specified index pairs\n",
    "\n",
    "    Args:\n",
    "        distribution (np.ndarray): pairs of indices we add together\n",
    "\n",
    "    Returns:\n",
    "        np.ndarray: resulting distribution (dimensions will be half as large)\n",
    "    \"\"\"\n",
    "    result = np.ndarray(shape=len(pairings))\n",
    "    for i, pair in enumerate(pairings):\n",
    "        result[i] = distribution[pair[0]] + distribution[pair[1]]\n",
    "    return result"
   ]
  },
  {
   "cell_type": "code",
   "execution_count": 4,
   "metadata": {},
   "outputs": [],
   "source": [
    "distr_1 = np.array([.000999, .00029, .93906, .00095])\n",
    "distr_2 = np.array([.95,.05,.55,.45,.17,.83,.23,.77])\n",
    "joined = join(distr_1, distr_2, {0:[0,1],1:[2,3],2:[4,5],3:[6,7]})"
   ]
  },
  {
   "cell_type": "code",
   "execution_count": 12,
   "metadata": {},
   "outputs": [
    {
     "data": {
      "text/plain": [
       "array([1.108550e-03, 1.804500e-04, 1.598587e-01, 7.801513e-01])"
      ]
     },
     "execution_count": 12,
     "metadata": {},
     "output_type": "execute_result"
    }
   ],
   "source": [
    "eliminate(joined, pairings=[(0,2),(1,3),(4,6),(5,7)])"
   ]
  },
  {
   "cell_type": "code",
   "execution_count": null,
   "metadata": {},
   "outputs": [],
   "source": [
    "def return_query_probabilities(queries: list[int], evidence: list[tuple[int,bool]], network: dict) -> np.ndarray:\n",
    "    \"\"\"Given a Bayesian network and a list of query and evidence variables, return the probability distribution for all possible values of query variables\n",
    "\n",
    "    Args:\n",
    "        queries (list[int]): list of variables specified whose value probabilities we want to query\n",
    "        evidence (list[tuple[int,bool]]): list of variables whose values are specified and hence affect query probabilities\n",
    "        network (dict): underlying network which reveals probabilities of each node given its parents' values\n",
    "\n",
    "    Returns:\n",
    "        np.ndarray: probability distribution of possible combination values of each of the query variables (2^{#query variables}, 0 is all false and 2^{#query variables}-1 is all true)\n",
    "    \"\"\"\n",
    "    # we need a map of variables to their respective factors (some of which will be shared)\n",
    "    factors = {i:[] for i in network.keys()}\n",
    "    # each factor has its own probability distribution - which may or may not depend on its parents\n",
    "    for i, info in network.items():\n",
    "        parents = info[\"parents\"]\n",
    "        prob_array = np.ndarray([pair[1] for pair in info[\"prob\"]])\n",
    "        # now double the size of this probability array by putting the complement probability in front of each of these probabilities\n",
    "        new_prob_array = np.zeros(2*len(prob_array))\n",
    "        for i in range(len(prob_array)):\n",
    "            new_prob_array[2*i] = 1 - prob_array[i]\n",
    "            new_prob_array[2*i+1] = prob_array[i]\n",
    "        factors[i].append(new_prob_array)\n",
    "        for p in parents:\n",
    "            factors[p].append(new_prob_array)"
   ]
  }
 ],
 "metadata": {
  "kernelspec": {
   "display_name": "venv",
   "language": "python",
   "name": "python3"
  },
  "language_info": {
   "codemirror_mode": {
    "name": "ipython",
    "version": 3
   },
   "file_extension": ".py",
   "mimetype": "text/x-python",
   "name": "python",
   "nbconvert_exporter": "python",
   "pygments_lexer": "ipython3",
   "version": "3.10.16"
  }
 },
 "nbformat": 4,
 "nbformat_minor": 2
}
