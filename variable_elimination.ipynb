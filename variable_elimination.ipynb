{
 "cells": [
  {
   "cell_type": "markdown",
   "metadata": {},
   "source": [
    "## Implementation of Variable Elimination to approximate probability queries from a Bayesian Network."
   ]
  },
  {
   "cell_type": "code",
   "execution_count": 9,
   "metadata": {},
   "outputs": [],
   "source": [
    "import numpy as np\n",
    "from disjoint_set import DisjointSet\n",
    "from calculations_helper import create_factors, handle_vars"
   ]
  },
  {
   "cell_type": "code",
   "execution_count": null,
   "metadata": {},
   "outputs": [],
   "source": [
    "def estimate_variable_elimination(queries: list[int], evidence: dict[int,bool], network: dict) -> np.array:\n",
    "    \"\"\"Given a Bayesian network and a list of query and evidence variables, return the probability distribution for all possible values of query variables\n",
    "\n",
    "    Args:\n",
    "        queries (list[int]): list of variables specified whose value probabilities we want to query\n",
    "        evidence (list[tuple[int,bool]]): list of variables whose values are specified and hence affect query probabilities\n",
    "        network (dict): underlying network which reveals probabilities of each node given its parents' values\n",
    "\n",
    "    Returns:\n",
    "        np.ndarray: probability distribution of possible combination values of each of the query variables (2^{#query variables}, 0 is all false and 2^{#query variables}-1 is all true)\n",
    "    \"\"\"\n",
    "    # grab the list of factors and each factor has its own probability distribution - which will depend on its parents should they exist\n",
    "    factor_index_to_factor, var_to_factor_indices = create_factors(network, evidence)\n",
    "\n",
    "    # ultimately, factors will be merged, and thus their index will correspond to the same set variable - we do not want that showing up multiple times when we consider the relevant factors to a variable below\n",
    "    factor_tracker = DisjointSet()\n",
    "    for i in range(len(factor_index_to_factor)):\n",
    "        factor_tracker.add_element(id=i)\n",
    "\n",
    "    # figure out which variables need to be eliminated\n",
    "    query_set = set(queries)\n",
    "    evidence_set = set([pair[0] for pair in evidence.items()])\n",
    "    hidden_vars = [i for i in range(len(network)) if i not in query_set and i not in evidence_set]\n",
    "    # sort the hidden variables by the number of relevant factors\n",
    "    hidden_vars.sort(key=lambda x : -len(var_to_factor_indices[x]))\n",
    "\n",
    "    # now we go through and eliminate each hidden variable\n",
    "    handle_vars(vars=hidden_vars, eliminate=True, factor_index_to_factor=factor_index_to_factor, factor_tracker=factor_tracker,var_to_factor_indices=var_to_factor_indices)\n",
    "    result = handle_vars(vars=queries, eliminate=False, factor_index_to_factor=factor_index_to_factor, factor_tracker=factor_tracker,var_to_factor_indices=var_to_factor_indices) # this function also returns a factor\n",
    "    return result / np.sum(result) # for normalization"
   ]
  },
  {
   "cell_type": "code",
   "execution_count": null,
   "metadata": {},
   "outputs": [
    {
     "name": "stdout",
     "output_type": "stream",
     "text": [
      "[0.71582816 0.28417184]\n"
     ]
    }
   ],
   "source": [
    "import json\n",
    "\n",
    "queries = [0]\n",
    "evidence = {3:True,4:True}\n",
    "\n",
    "with open('bn_test_1.json') as f:\n",
    "    bayesian_network = json.load(f)\n",
    "    print(estimate_variable_elimination(queries, evidence, bayesian_network))"
   ]
  },
  {
   "cell_type": "code",
   "execution_count": null,
   "metadata": {},
   "outputs": [
    {
     "name": "stdout",
     "output_type": "stream",
     "text": [
      "[0.34953879 0.056898   0.10097538 0.49258784]\n"
     ]
    }
   ],
   "source": [
    "import json\n",
    "\n",
    "queries = [0, 3]\n",
    "evidence = {2:True}\n",
    "\n",
    "with open('bn_test_2.json') as f:\n",
    "    bayesian_network = json.load(f)\n",
    "    print(estimate_variable_elimination(queries, evidence, bayesian_network))"
   ]
  },
  {
   "cell_type": "code",
   "execution_count": null,
   "metadata": {},
   "outputs": [
    {
     "name": "stdout",
     "output_type": "stream",
     "text": [
      "[0.87746479 0.12253521]\n"
     ]
    }
   ],
   "source": [
    "import json\n",
    "\n",
    "queries = [1]\n",
    "evidence = {2:False}\n",
    "\n",
    "with open('bn_test_3.json') as f:\n",
    "    bayesian_network = json.load(f)\n",
    "    print(estimate_variable_elimination(queries, evidence, bayesian_network))"
   ]
  }
 ],
 "metadata": {
  "kernelspec": {
   "display_name": "venv",
   "language": "python",
   "name": "python3"
  },
  "language_info": {
   "codemirror_mode": {
    "name": "ipython",
    "version": 3
   },
   "file_extension": ".py",
   "mimetype": "text/x-python",
   "name": "python",
   "nbconvert_exporter": "python",
   "pygments_lexer": "ipython3",
   "version": "3.10.16"
  }
 },
 "nbformat": 4,
 "nbformat_minor": 2
}
