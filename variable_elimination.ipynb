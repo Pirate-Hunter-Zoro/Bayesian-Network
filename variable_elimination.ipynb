{
 "cells": [
  {
   "cell_type": "markdown",
   "metadata": {},
   "source": [
    "## Implementation of Variable Elimination to approximate probability queries from a Bayesian Network."
   ]
  },
  {
   "cell_type": "code",
   "execution_count": 1,
   "metadata": {},
   "outputs": [],
   "source": [
    "import numpy as np\n",
    "from calculations_helper import break_up_polytree, handle_dag_variable_elimination, join_distributions\n",
    "\n",
    "def estimate_variable_elimination(queries: list[int], evidence: dict[int,bool], entire_network: dict) -> tuple[list[int], np.array]:\n",
    "    \"\"\"Given a Bayesian network and a list of query and evidence variables, return the probability distribution for all possible values of query variables\n",
    "\n",
    "    Args:\n",
    "        queries (list[int]): list of variables specified whose value probabilities we want to query\n",
    "        evidence (list[tuple[int,bool]]): list of variables whose values are specified and hence affect query probabilities\n",
    "        network (dict): underlying network which reveals probabilities of each node given its parents' values\n",
    "\n",
    "    Returns:\n",
    "        tuple[list[int],np.array]: probability distribution of possible combination values of each of the query variables (2^{#query variables}, 0 is all false and 2^{#query variables}-1 is all true)\n",
    "    \"\"\"\n",
    "    dag_map, query_collections, evidence_collections = break_up_polytree(entire_network, queries, evidence)\n",
    "    \n",
    "    if len(dag_map) == 1:\n",
    "        # only one directed acyclic graph\n",
    "        return queries, handle_dag_variable_elimination(entire_network, queries, evidence)\n",
    "    else:\n",
    "        # each directed acyclic graph will output a probability distribution - we must join them all and keep track of the variables present\n",
    "        reordered_queries = []\n",
    "        prob_distributions = []\n",
    "        for i, dag in dag_map.items():\n",
    "            these_queries = query_collections[i]\n",
    "            for v in these_queries:\n",
    "                reordered_queries.append(v)\n",
    "            this_evidence = {v:evidence[v] for v in evidence_collections[i]}\n",
    "            prob_distributions.append(handle_dag_variable_elimination(dag, these_queries, this_evidence))\n",
    "        return reordered_queries, join_distributions(prob_distributions)"
   ]
  },
  {
   "cell_type": "code",
   "execution_count": null,
   "metadata": {},
   "outputs": [],
   "source": [
    "import json\n",
    "import time\n",
    "\n",
    "query_list = [[1, 3], [4, 5, 7], [2,6,10,12]]\n",
    "evidence_list = [{2:False, 5:True}, {2:True, 3:False, 6:False}, {3:False, 4:False, 5:True, 15:True}]\n",
    "\n",
    "times = []\n",
    "results = []\n",
    "\n",
    "for queries,evidence in zip(query_list,evidence_list):\n",
    "    with open('small_polytree.json') as f:\n",
    "        bayesian_network = json.load(f)\n",
    "        start_time = time.perf_counter()\n",
    "        results.append(estimate_variable_elimination(queries, evidence, bayesian_network))\n",
    "        end_time = time.perf_counter()\n",
    "        times.append(end_time-start_time)\n",
    "for res, t in zip(results, times):\n",
    "    print(f\"Variables={res[0]}\\nProbabilities={res[1]}\\nRuntime={t}\\n\\n\")"
   ]
  },
  {
   "cell_type": "code",
   "execution_count": null,
   "metadata": {},
   "outputs": [
    {
     "name": "stdout",
     "output_type": "stream",
     "text": [
      "Variables=[1, 3]\n",
      "Probabilities=[9.27595609e-01 6.15892885e-03 6.58085148e-02 4.36946829e-04]\n",
      "Runtime=15.704179208012647\n",
      "\n",
      "\n",
      "Variables=[4, 5, 7]\n",
      "Probabilities=[0.60774379 0.39225621]\n",
      "Runtime=0.1250058340083342\n",
      "\n",
      "\n",
      "Variables=[2, 6, 10, 12]\n",
      "Probabilities=[0.87277758 0.12722242]\n",
      "Runtime=0.003926417004549876\n",
      "\n",
      "\n"
     ]
    }
   ],
   "source": [
    "import json\n",
    "import time\n",
    "\n",
    "query_list = [[1, 3], [4, 5, 7], [2,6,10,12]]\n",
    "evidence_list = [{2:False, 5:True}, {2:True, 3:False, 6:False}, {3:False, 4:False, 5:True, 15:True}]\n",
    "\n",
    "times = []\n",
    "results = []\n",
    "\n",
    "for queries,evidence in zip(query_list,evidence_list):\n",
    "    with open('big_polytree.json') as f:\n",
    "        bayesian_network = json.load(f)\n",
    "        start_time = time.perf_counter()\n",
    "        results.append(estimate_variable_elimination(queries, evidence, bayesian_network))\n",
    "        end_time = time.perf_counter()\n",
    "        times.append(end_time-start_time)\n",
    "for res, t in zip(results, times):\n",
    "    print(f\"Variables={res[0]}\\nProbabilities={res[1]}\\nRuntime={t}\\n\\n\")"
   ]
  },
  {
   "cell_type": "code",
   "execution_count": null,
   "metadata": {},
   "outputs": [
    {
     "name": "stdout",
     "output_type": "stream",
     "text": [
      "Variables=[1, 3]\n",
      "Probabilities=[1. 0. 0. 0.]\n",
      "Runtime=937.5399549590074\n",
      "\n",
      "\n",
      "Variables=[4, 5, 7]\n",
      "Probabilities=[0.99128646 0.00871354]\n",
      "Runtime=25.300940750006703\n",
      "\n",
      "\n",
      "Variables=[2, 6, 10, 12]\n",
      "Probabilities=[9.99999039e-01 9.61066056e-07 0.00000000e+00 0.00000000e+00]\n",
      "Runtime=0.1896886659960728\n",
      "\n",
      "\n"
     ]
    }
   ],
   "source": [
    "import json\n",
    "import time\n",
    "\n",
    "query_list = [[1, 3], [4, 5, 7], [2,6,10,12]]\n",
    "evidence_list = [{2:False, 5:True}, {2:True, 3:False, 6:False}, {3:False, 4:False, 5:True, 15:True}]\n",
    "\n",
    "times = []\n",
    "results = []\n",
    "\n",
    "for queries,evidence in zip(query_list,evidence_list):\n",
    "    with open('giant_polytree.json') as f:\n",
    "        bayesian_network = json.load(f)\n",
    "        start_time = time.perf_counter()\n",
    "        results.append(estimate_variable_elimination(queries, evidence, bayesian_network))\n",
    "        end_time = time.perf_counter()\n",
    "        times.append(end_time-start_time)\n",
    "for res, t in zip(results, times):\n",
    "    print(f\"Variables={res[0]}\\nProbabilities={res[1]}\\nRuntime={t}\\n\\n\")"
   ]
  }
 ],
 "metadata": {
  "kernelspec": {
   "display_name": "venv",
   "language": "python",
   "name": "python3"
  },
  "language_info": {
   "codemirror_mode": {
    "name": "ipython",
    "version": 3
   },
   "file_extension": ".py",
   "mimetype": "text/x-python",
   "name": "python",
   "nbconvert_exporter": "python",
   "pygments_lexer": "ipython3",
   "version": "3.10.16"
  }
 },
 "nbformat": 4,
 "nbformat_minor": 2
}
