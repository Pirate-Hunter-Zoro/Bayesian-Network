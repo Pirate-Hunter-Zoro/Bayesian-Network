{
 "cells": [
  {
   "cell_type": "markdown",
   "metadata": {},
   "source": [
    "## Implementation of Variable Elimination to approximate probability queries from a Bayesian Network."
   ]
  },
  {
   "cell_type": "code",
   "execution_count": 1,
   "metadata": {},
   "outputs": [],
   "source": [
    "import numpy as np\n",
    "from calculations_helper import break_up_polytree, handle_dag_variable_elimination, join_distributions\n",
    "\n",
    "def estimate_variable_elimination(queries: list[int], evidence: dict[int,bool], entire_network: dict) -> tuple[list[int], np.array]:\n",
    "    \"\"\"Given a Bayesian network and a list of query and evidence variables, return the probability distribution for all possible values of query variables\n",
    "\n",
    "    Args:\n",
    "        queries (list[int]): list of variables specified whose value probabilities we want to query\n",
    "        evidence (list[tuple[int,bool]]): list of variables whose values are specified and hence affect query probabilities\n",
    "        network (dict): underlying network which reveals probabilities of each node given its parents' values\n",
    "\n",
    "    Returns:\n",
    "        tuple[list[int],np.array]: probability distribution of possible combination values of each of the query variables (2^{#query variables}, 0 is all false and 2^{#query variables}-1 is all true)\n",
    "    \"\"\"\n",
    "    dag_map, query_collections, evidence_collections = break_up_polytree(entire_network, queries, evidence)\n",
    "    \n",
    "    if len(dag_map) == 1:\n",
    "        # only one directed acyclic graph\n",
    "        return queries, handle_dag_variable_elimination(entire_network, queries, evidence)\n",
    "    else:\n",
    "        # each directed acyclic graph will output a probability distribution - we must join them all and keep track of the variables present\n",
    "        reordered_queries = []\n",
    "        prob_distributions = []\n",
    "        for i, dag in dag_map.items():\n",
    "            these_queries = query_collections[i]\n",
    "            for v in these_queries:\n",
    "                reordered_queries.append(v)\n",
    "            this_evidence = {v:evidence[v] for v in evidence_collections[i]}\n",
    "            prob_distributions.append(handle_dag_variable_elimination(dag, these_queries, this_evidence))\n",
    "        return reordered_queries, join_distributions(prob_distributions)"
   ]
  },
  {
   "cell_type": "code",
   "execution_count": 2,
   "metadata": {},
   "outputs": [
    {
     "name": "stdout",
     "output_type": "stream",
     "text": [
      "Variables=[1, 3]\n",
      "Probabilities=[0.00331494 0.50896417 0.18047446 0.30724643]\n",
      "Runtime=0.0021042080043116584\n",
      "\n",
      "\n",
      "Variables=[4, 5, 7]\n",
      "Probabilities=[0.06153927 0.06153927 0.00106582 0.00106582 0.42994845 0.42994845\n",
      " 0.00744646 0.00744646]\n",
      "Runtime=0.0007107499986886978\n",
      "\n",
      "\n",
      "Variables=[2, 6, 10, 12]\n",
      "Probabilities=[0.02629805 0.00179495 0.01383838 0.00094452 0.01002877 0.0006845\n",
      " 0.00770981 0.00052623 0.3990633  0.02723767 0.20999231 0.01433282\n",
      " 0.15218283 0.01038709 0.11699351 0.00798528]\n",
      "Runtime=0.0016997500060824677\n",
      "\n",
      "\n"
     ]
    }
   ],
   "source": [
    "import json\n",
    "import time\n",
    "\n",
    "query_list = [[1, 3], [4, 5, 7], [2,6,10,12]]\n",
    "evidence_list = [{2:False, 5:True}, {2:True, 3:False, 6:False}, {3:False, 4:False, 5:True, 15:True}]\n",
    "\n",
    "times = []\n",
    "results = []\n",
    "\n",
    "for queries,evidence in zip(query_list,evidence_list):\n",
    "    with open('small_polytree.json') as f:\n",
    "        bayesian_network = json.load(f)\n",
    "        start_time = time.perf_counter()\n",
    "        results.append(estimate_variable_elimination(queries, evidence, bayesian_network))\n",
    "        end_time = time.perf_counter()\n",
    "        times.append(end_time-start_time)\n",
    "for res, t in zip(results, times):\n",
    "    print(f\"Variables={res[0]}\\nProbabilities={res[1]}\\nRuntime={t}\\n\\n\")"
   ]
  },
  {
   "cell_type": "code",
   "execution_count": 3,
   "metadata": {},
   "outputs": [
    {
     "name": "stdout",
     "output_type": "stream",
     "text": [
      "Variables=[1, 3]\n",
      "Probabilities=[0.83778059 0.0993041  0.05624809 0.00666722]\n",
      "Runtime=0.04892166699573863\n",
      "\n",
      "\n",
      "Variables=[4, 5, 7]\n",
      "Probabilities=[0.31336413 0.17118614 0.01793244 0.00979623 0.29834193 0.16297973\n",
      " 0.01707279 0.00932661]\n",
      "Runtime=0.05232854199130088\n",
      "\n",
      "\n",
      "Variables=[2, 6, 10, 12]\n",
      "Probabilities=[1.28535221e-02 9.66295800e-04 4.94529378e-01 3.71774877e-02\n",
      " 3.85230147e-03 2.89606436e-04 1.48214336e-01 1.11423849e-02\n",
      " 2.36452524e-03 1.77759122e-04 9.09732899e-02 6.83914550e-03\n",
      " 4.49132563e-03 3.37646682e-04 1.72800299e-01 1.29906964e-02]\n",
      "Runtime=0.001534499999252148\n",
      "\n",
      "\n"
     ]
    }
   ],
   "source": [
    "import json\n",
    "import time\n",
    "\n",
    "query_list = [[1, 3], [4, 5, 7], [2,6,10,12]]\n",
    "evidence_list = [{2:False, 5:True}, {2:True, 3:False, 6:False}, {3:False, 4:False, 5:True, 15:True}]\n",
    "\n",
    "times = []\n",
    "results = []\n",
    "\n",
    "for queries,evidence in zip(query_list,evidence_list):\n",
    "    with open('big_polytree.json') as f:\n",
    "        bayesian_network = json.load(f)\n",
    "        start_time = time.perf_counter()\n",
    "        results.append(estimate_variable_elimination(queries, evidence, bayesian_network))\n",
    "        end_time = time.perf_counter()\n",
    "        times.append(end_time-start_time)\n",
    "for res, t in zip(results, times):\n",
    "    print(f\"Variables={res[0]}\\nProbabilities={res[1]}\\nRuntime={t}\\n\\n\")"
   ]
  },
  {
   "cell_type": "code",
   "execution_count": null,
   "metadata": {},
   "outputs": [],
   "source": [
    "import json\n",
    "import time\n",
    "\n",
    "query_list = [[1, 3], [4, 5, 7], [2,6,10,12]]\n",
    "evidence_list = [{2:False, 5:True}, {2:True, 3:False, 6:False}, {3:False, 4:False, 5:True, 15:True}]\n",
    "\n",
    "times = []\n",
    "results = []\n",
    "\n",
    "for queries,evidence in zip(query_list,evidence_list):\n",
    "    with open('giant_polytree.json') as f:\n",
    "        bayesian_network = json.load(f)\n",
    "        start_time = time.perf_counter()\n",
    "        results.append(estimate_variable_elimination(queries, evidence, bayesian_network))\n",
    "        end_time = time.perf_counter()\n",
    "        times.append(end_time-start_time)\n",
    "for res, t in zip(results, times):\n",
    "    print(f\"Variables={res[0]}\\nProbabilities={res[1]}\\nRuntime={t}\\n\\n\")"
   ]
  }
 ],
 "metadata": {
  "kernelspec": {
   "display_name": "venv",
   "language": "python",
   "name": "python3"
  },
  "language_info": {
   "codemirror_mode": {
    "name": "ipython",
    "version": 3
   },
   "file_extension": ".py",
   "mimetype": "text/x-python",
   "name": "python",
   "nbconvert_exporter": "python",
   "pygments_lexer": "ipython3",
   "version": "3.10.16"
  }
 },
 "nbformat": 4,
 "nbformat_minor": 2
}
