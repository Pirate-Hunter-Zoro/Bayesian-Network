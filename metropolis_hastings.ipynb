{
 "cells": [
  {
   "cell_type": "markdown",
   "metadata": {},
   "source": [
    "## Implementation of Metropolis Hastings to approximate probability queries from a Bayesian Network."
   ]
  },
  {
   "cell_type": "code",
   "execution_count": 17,
   "metadata": {},
   "outputs": [],
   "source": [
    "import numpy as np\n",
    "from calculations_helper import break_up_polytree, handle_dag_metropolis_hastings, join_distributions\n",
    "\n",
    "def estimate_metropolis_hastings(p: float, iterations: int, network: dict, queries: list[int], evidence: dict[int,bool]) -> np.array:\n",
    "    \"\"\"Generate an estimate for the probability distribution for a given set of query variables and evidence values\n",
    "\n",
    "    Args:\n",
    "        p (float): determines probability of generating the next state via either Gibbs Sampling or Likelihood Weighting\n",
    "        iterations (int): number of samples to take before we go with the estimate\n",
    "        network (dict): underlying bayesian network\n",
    "        queries (list[int]): list of query variables\n",
    "        evidence (dict[int,bool]): list of evidence variables with their respective values\n",
    "\n",
    "    Returns:\n",
    "        np.array: estimated probability distribution for the different combinations the query variables can take on\n",
    "    \"\"\"\n",
    "    dag_map, query_collections, evidence_collections = break_up_polytree(network, queries, evidence)\n",
    "    \n",
    "    if len(dag_map) == 1:\n",
    "        # only one directed acyclic graph\n",
    "        return queries, handle_dag_metropolis_hastings(iterations, p, network, queries, evidence)\n",
    "    else:\n",
    "        # each directed acyclic graph will output a probability distribution - we must join them all and keep track of the variables present\n",
    "        reordered_queries = []\n",
    "        prob_distributions = []\n",
    "        for i, dag in dag_map.items():\n",
    "            these_queries = query_collections[i]\n",
    "            for v in these_queries:\n",
    "                reordered_queries.append(v)\n",
    "            this_evidence = {v:evidence[v] for v in evidence_collections[i]}\n",
    "            prob_distributions.append(handle_dag_metropolis_hastings(iterations, p, dag, these_queries, this_evidence))\n",
    "        return reordered_queries, join_distributions(prob_distributions)"
   ]
  },
  {
   "cell_type": "code",
   "execution_count": 18,
   "metadata": {},
   "outputs": [
    {
     "name": "stdout",
     "output_type": "stream",
     "text": [
      "([0], array([0.63498007, 0.36501993]))\n",
      "([0], array([0.62399139, 0.37600861]))\n",
      "([0], array([0.6261972, 0.3738028]))\n"
     ]
    }
   ],
   "source": [
    "import json\n",
    "\n",
    "queries = [0]\n",
    "evidence = {3:True,4:True}\n",
    "\n",
    "with open('bn_test_1.json') as f:\n",
    "    bayesian_network = json.load(f)\n",
    "    print(estimate_metropolis_hastings(p=0.75, network=bayesian_network, queries=queries, evidence=evidence, iterations=10000))\n",
    "    print(estimate_metropolis_hastings(p=0.85, network=bayesian_network, queries=queries, evidence=evidence, iterations=10000))\n",
    "    print(estimate_metropolis_hastings(p=0.95, network=bayesian_network, queries=queries, evidence=evidence, iterations=10000))"
   ]
  },
  {
   "cell_type": "code",
   "execution_count": 19,
   "metadata": {},
   "outputs": [
    {
     "name": "stdout",
     "output_type": "stream",
     "text": [
      "([0, 3], array([0.35424193, 0.20473601, 0.13632263, 0.30469943]))\n",
      "([0, 3], array([0.3582112 , 0.21026425, 0.14109589, 0.29042866]))\n",
      "([0, 3], array([0.3491526 , 0.21747754, 0.14070791, 0.29266195]))\n"
     ]
    }
   ],
   "source": [
    "import json\n",
    "\n",
    "queries = [0, 3]\n",
    "evidence = {2:True}\n",
    "\n",
    "with open('bn_test_2.json') as f:\n",
    "    bayesian_network = json.load(f)\n",
    "    print(estimate_metropolis_hastings(p=0.75, network=bayesian_network, queries=queries, evidence=evidence, iterations=10000))\n",
    "    print(estimate_metropolis_hastings(p=0.85, network=bayesian_network, queries=queries, evidence=evidence, iterations=10000))\n",
    "    print(estimate_metropolis_hastings(p=0.95, network=bayesian_network, queries=queries, evidence=evidence, iterations=10000))"
   ]
  },
  {
   "cell_type": "code",
   "execution_count": 20,
   "metadata": {},
   "outputs": [
    {
     "name": "stdout",
     "output_type": "stream",
     "text": [
      "([1], array([0.68271642, 0.31728358]))\n",
      "([1], array([0.65775061, 0.34224939]))\n",
      "([1], array([0.64013862, 0.35986138]))\n"
     ]
    }
   ],
   "source": [
    "import json\n",
    "\n",
    "queries = [1]\n",
    "evidence = {2:False}\n",
    "\n",
    "with open('bn_test_3.json') as f:\n",
    "    bayesian_network = json.load(f)\n",
    "    print(estimate_metropolis_hastings(p=0.75, network=bayesian_network, queries=queries, evidence=evidence, iterations=10000))\n",
    "    print(estimate_metropolis_hastings(p=0.85, network=bayesian_network, queries=queries, evidence=evidence, iterations=10000))\n",
    "    print(estimate_metropolis_hastings(p=0.95, network=bayesian_network, queries=queries, evidence=evidence, iterations=10000))"
   ]
  },
  {
   "cell_type": "code",
   "execution_count": 21,
   "metadata": {},
   "outputs": [
    {
     "name": "stdout",
     "output_type": "stream",
     "text": [
      "([1, 3], array([0.1973437 , 0.32385414, 0.23585324, 0.24294891]))\n",
      "([1, 3], array([0.19916366, 0.31220531, 0.25466806, 0.23396297]))\n",
      "([1, 3], array([0.20207879, 0.30299126, 0.2428159 , 0.25211404]))\n"
     ]
    }
   ],
   "source": [
    "import json\n",
    "\n",
    "queries = [1, 3]\n",
    "evidence = {2:False, 5:True}\n",
    "\n",
    "with open('small_polytree.json') as f:\n",
    "    bayesian_network = json.load(f)\n",
    "    print(estimate_metropolis_hastings(p=0.75, network=bayesian_network, queries=queries, evidence=evidence, iterations=10000))\n",
    "    print(estimate_metropolis_hastings(p=0.85, network=bayesian_network, queries=queries, evidence=evidence, iterations=10000))\n",
    "    print(estimate_metropolis_hastings(p=0.95, network=bayesian_network, queries=queries, evidence=evidence, iterations=10000))"
   ]
  },
  {
   "cell_type": "code",
   "execution_count": 22,
   "metadata": {},
   "outputs": [
    {
     "name": "stdout",
     "output_type": "stream",
     "text": [
      "([1, 3], array([0.27625956, 0.24145218, 0.24485337, 0.2374349 ]))\n",
      "([1, 3], array([0.27474401, 0.23484631, 0.24821169, 0.24219799]))\n",
      "([1, 3], array([0.25674414, 0.24618258, 0.24983827, 0.24723501]))\n"
     ]
    }
   ],
   "source": [
    "import json\n",
    "\n",
    "queries = [1, 3]\n",
    "evidence = {2:False, 5:True}\n",
    "\n",
    "with open('big_polytree.json') as f:\n",
    "    bayesian_network = json.load(f)\n",
    "    print(estimate_metropolis_hastings(p=0.75, network=bayesian_network, queries=queries, evidence=evidence, iterations=10000))\n",
    "    print(estimate_metropolis_hastings(p=0.85, network=bayesian_network, queries=queries, evidence=evidence, iterations=10000))\n",
    "    print(estimate_metropolis_hastings(p=0.95, network=bayesian_network, queries=queries, evidence=evidence, iterations=10000))"
   ]
  }
 ],
 "metadata": {
  "kernelspec": {
   "display_name": "venv",
   "language": "python",
   "name": "python3"
  },
  "language_info": {
   "codemirror_mode": {
    "name": "ipython",
    "version": 3
   },
   "file_extension": ".py",
   "mimetype": "text/x-python",
   "name": "python",
   "nbconvert_exporter": "python",
   "pygments_lexer": "ipython3",
   "version": "3.10.16"
  }
 },
 "nbformat": 4,
 "nbformat_minor": 2
}
