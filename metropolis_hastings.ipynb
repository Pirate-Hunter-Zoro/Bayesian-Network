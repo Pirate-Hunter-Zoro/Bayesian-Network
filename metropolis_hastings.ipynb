{
 "cells": [
  {
   "cell_type": "markdown",
   "metadata": {},
   "source": [
    "## Implementation of Metropolis Hastings to approximate probability queries from a Bayesian Network."
   ]
  },
  {
   "cell_type": "code",
   "execution_count": 17,
   "metadata": {},
   "outputs": [],
   "source": [
    "import numpy as np\n",
    "from calculations_helper import break_up_polytree, handle_dag_metropolis_hastings, join_distributions\n",
    "\n",
    "def estimate_metropolis_hastings(p: float, iterations: int, network: dict, queries: list[int], evidence: dict[int,bool]) -> np.array:\n",
    "    \"\"\"Generate an estimate for the probability distribution for a given set of query variables and evidence values\n",
    "\n",
    "    Args:\n",
    "        p (float): determines probability of generating the next state via either Gibbs Sampling or Likelihood Weighting\n",
    "        iterations (int): number of samples to take before we go with the estimate\n",
    "        network (dict): underlying bayesian network\n",
    "        queries (list[int]): list of query variables\n",
    "        evidence (dict[int,bool]): list of evidence variables with their respective values\n",
    "\n",
    "    Returns:\n",
    "        np.array: estimated probability distribution for the different combinations the query variables can take on\n",
    "    \"\"\"\n",
    "    dag_map, query_collections, evidence_collections = break_up_polytree(network, queries, evidence)\n",
    "    \n",
    "    if len(dag_map) == 1:\n",
    "        # only one directed acyclic graph\n",
    "        return queries, handle_dag_metropolis_hastings(iterations, p, network, queries, evidence)\n",
    "    else:\n",
    "        # each directed acyclic graph will output a probability distribution - we must join them all and keep track of the variables present\n",
    "        reordered_queries = []\n",
    "        prob_distributions = []\n",
    "        for i, dag in dag_map.items():\n",
    "            these_queries = query_collections[i]\n",
    "            for v in these_queries:\n",
    "                reordered_queries.append(v)\n",
    "            this_evidence = {v:evidence[v] for v in evidence_collections[i]}\n",
    "            prob_distributions.append(handle_dag_metropolis_hastings(iterations, p, dag, these_queries, this_evidence))\n",
    "        return reordered_queries, join_distributions(prob_distributions)"
   ]
  },
  {
   "cell_type": "code",
   "execution_count": null,
   "metadata": {},
   "outputs": [],
   "source": [
    "import json\n",
    "import time\n",
    "\n",
    "query_list = [[1, 3], [4, 5, 7], [2,6,10,12]]\n",
    "evidence_list = [{2:False, 5:True}, {2:True, 3:False, 6:False}, {3:False, 4:False, 5:True, 15:True}]\n",
    "\n",
    "times = []\n",
    "results = []\n",
    "\n",
    "for queries,evidence in zip(query_list,evidence_list):\n",
    "    with open('small_polytree.json') as f:\n",
    "        bayesian_network = json.load(f)\n",
    "        start_time = time.perf_counter()\n",
    "        results.append(estimate_metropolis_hastings(10000, bayesian_network, queries, evidence))\n",
    "        end_time = time.perf_counter()\n",
    "        times.append(end_time-start_time)\n",
    "for res, t in zip(results, times):\n",
    "    print(f\"Variables={res[0]}\\nProbabilities={res[1]}\\nRuntime={t}\\n\\n\")"
   ]
  },
  {
   "cell_type": "code",
   "execution_count": null,
   "metadata": {},
   "outputs": [
    {
     "name": "stdout",
     "output_type": "stream",
     "text": [
      "([1, 3], array([0.1973437 , 0.32385414, 0.23585324, 0.24294891]))\n",
      "([1, 3], array([0.19916366, 0.31220531, 0.25466806, 0.23396297]))\n",
      "([1, 3], array([0.20207879, 0.30299126, 0.2428159 , 0.25211404]))\n"
     ]
    }
   ],
   "source": [
    "import json\n",
    "import time\n",
    "\n",
    "query_list = [[1, 3], [4, 5, 7], [2,6,10,12]]\n",
    "evidence_list = [{2:False, 5:True}, {2:True, 3:False, 6:False}, {3:False, 4:False, 5:True, 15:True}]\n",
    "\n",
    "times = []\n",
    "results = []\n",
    "\n",
    "for queries,evidence in zip(query_list,evidence_list):\n",
    "    with open('big_polytree.json') as f:\n",
    "        bayesian_network = json.load(f)\n",
    "        start_time = time.perf_counter()\n",
    "        results.append(estimate_metropolis_hastings(10000, bayesian_network, queries, evidence))\n",
    "        end_time = time.perf_counter()\n",
    "        times.append(end_time-start_time)\n",
    "for res, t in zip(results, times):\n",
    "    print(f\"Variables={res[0]}\\nProbabilities={res[1]}\\nRuntime={t}\\n\\n\")"
   ]
  },
  {
   "cell_type": "code",
   "execution_count": null,
   "metadata": {},
   "outputs": [
    {
     "name": "stdout",
     "output_type": "stream",
     "text": [
      "([1, 3], array([0.27625956, 0.24145218, 0.24485337, 0.2374349 ]))\n",
      "([1, 3], array([0.27474401, 0.23484631, 0.24821169, 0.24219799]))\n",
      "([1, 3], array([0.25674414, 0.24618258, 0.24983827, 0.24723501]))\n"
     ]
    }
   ],
   "source": [
    "import json\n",
    "import time\n",
    "\n",
    "query_list = [[1, 3], [4, 5, 7], [2,6,10,12]]\n",
    "evidence_list = [{2:False, 5:True}, {2:True, 3:False, 6:False}, {3:False, 4:False, 5:True, 15:True}]\n",
    "\n",
    "times = []\n",
    "results = []\n",
    "\n",
    "for queries,evidence in zip(query_list,evidence_list):\n",
    "    with open('giant_polytree.json') as f:\n",
    "        bayesian_network = json.load(f)\n",
    "        start_time = time.perf_counter()\n",
    "        results.append(estimate_metropolis_hastings(10000, bayesian_network, queries, evidence))\n",
    "        end_time = time.perf_counter()\n",
    "        times.append(end_time-start_time)\n",
    "for res, t in zip(results, times):\n",
    "    print(f\"Variables={res[0]}\\nProbabilities={res[1]}\\nRuntime={t}\\n\\n\")"
   ]
  }
 ],
 "metadata": {
  "kernelspec": {
   "display_name": "venv",
   "language": "python",
   "name": "python3"
  },
  "language_info": {
   "codemirror_mode": {
    "name": "ipython",
    "version": 3
   },
   "file_extension": ".py",
   "mimetype": "text/x-python",
   "name": "python",
   "nbconvert_exporter": "python",
   "pygments_lexer": "ipython3",
   "version": "3.10.16"
  }
 },
 "nbformat": 4,
 "nbformat_minor": 2
}
