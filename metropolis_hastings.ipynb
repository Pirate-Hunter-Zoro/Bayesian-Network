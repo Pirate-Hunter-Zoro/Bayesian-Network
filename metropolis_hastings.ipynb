{
 "cells": [
  {
   "cell_type": "markdown",
   "metadata": {},
   "source": [
    "## Implementation of Metropolis Hastings to approximate probability queries from a Bayesian Network."
   ]
  },
  {
   "cell_type": "code",
   "execution_count": 1,
   "metadata": {},
   "outputs": [],
   "source": [
    "import random\n",
    "import copy\n",
    "import numpy as np\n",
    "from calculations_helper import perform_gibbs_sampling, perform_likelihood_weighting, find_weight\n",
    "from bayesian_network_helper import topologically_sort\n",
    "\n",
    "def estimate_metropolis_hastings(p: float, iterations: int, network: dict, queries: list[int], evidence: dict[int,bool]) -> np.array:\n",
    "    \"\"\"Generate an estimate for the probability distribution for a given set of query variables and evidence values\n",
    "\n",
    "    Args:\n",
    "        p (float): determines probability of generating the next state via either Gibbs Sampling or Likelihood Weighting\n",
    "        iterations (int): number of samples to take before we go with the estimate\n",
    "        network (dict): underlying bayesian network\n",
    "        queries (list[int]): list of query variables\n",
    "        evidence (dict[int,bool]): list of evidence variables with their respective values\n",
    "\n",
    "    Returns:\n",
    "        np.array: estimated probability distribution for the different combinations the query variables can take on\n",
    "    \"\"\"\n",
    "    # We'll use the alternative method fo metropolis hastings described in the README\n",
    "    prob_distribution = np.zeros(shape=1 << len(queries))\n",
    "\n",
    "    # create list of non-evidence variables\n",
    "    non_evidence_variables = [int(i) for i in network.keys() if int(i) not in evidence.keys()]\n",
    "\n",
    "    # also create list of topologically sorted variables\n",
    "    sorted_vars = topologically_sort(network=network)\n",
    "\n",
    "    prev_weighted_likelihood = 0.0\n",
    "    for _ in range(iterations):\n",
    "        current_evidence = copy.deepcopy(evidence)\n",
    "        if random.random() < p:\n",
    "            # randomly initialize all the variables\n",
    "            for v in non_evidence_variables:\n",
    "                current_evidence[v] = (random.random() < 0.5)\n",
    "            # Perform Gibbs sampling for our next state and accept it\n",
    "            posn = perform_gibbs_sampling(non_evidence_variables, current_evidence, network, queries)\n",
    "            prev_weighted_likelihood = find_weight(current_evidence, evidence, network)\n",
    "            # update the distribution accordingly\n",
    "            prob_distribution[posn] += 1.0\n",
    "        else:\n",
    "            # Perform likelihood weighting for our next state, but only move to it if the state is more likely than our previous state\n",
    "            old_evidence = copy.deepcopy(evidence)\n",
    "            weight, posn = perform_likelihood_weighting(network, sorted_vars, queries, evidence, current_evidence)\n",
    "            if weight < prev_weighted_likelihood:\n",
    "                # Reject the next state because it has a lower probability than the previous one obtained from likelihood weighting\n",
    "                current_evidence = old_evidence\n",
    "            else:\n",
    "                # Accept the next state\n",
    "                prev_weighted_likelihood = weight\n",
    "                prob_distribution[posn] += weight\n",
    "\n",
    "    return prob_distribution / np.sum(prob_distribution)"
   ]
  },
  {
   "cell_type": "code",
   "execution_count": 2,
   "metadata": {},
   "outputs": [
    {
     "name": "stdout",
     "output_type": "stream",
     "text": [
      "[0.62421554 0.37578446]\n",
      "[0.62947395 0.37052605]\n",
      "[0.62979446 0.37020554]\n"
     ]
    }
   ],
   "source": [
    "import json\n",
    "\n",
    "queries = [0]\n",
    "evidence = {3:True,4:True}\n",
    "\n",
    "with open('bn_test_1.json') as f:\n",
    "    bayesian_network = json.load(f)\n",
    "    print(estimate_metropolis_hastings(p=0.75, network=bayesian_network, queries=queries, evidence=evidence, iterations=10000))\n",
    "    print(estimate_metropolis_hastings(p=0.85, network=bayesian_network, queries=queries, evidence=evidence, iterations=10000))\n",
    "    print(estimate_metropolis_hastings(p=0.95, network=bayesian_network, queries=queries, evidence=evidence, iterations=10000))"
   ]
  },
  {
   "cell_type": "code",
   "execution_count": 22,
   "metadata": {},
   "outputs": [
    {
     "name": "stdout",
     "output_type": "stream",
     "text": [
      "[0.34738775 0.21039387 0.13905487 0.30316352]\n",
      "[0.35530454 0.21318999 0.13266003 0.29884544]\n",
      "[0.36132509 0.20684929 0.13822199 0.29360364]\n"
     ]
    }
   ],
   "source": [
    "import json\n",
    "\n",
    "queries = [0, 3]\n",
    "evidence = {2:True}\n",
    "\n",
    "with open('bn_test_2.json') as f:\n",
    "    bayesian_network = json.load(f)\n",
    "    print(estimate_metropolis_hastings(p=0.75, network=bayesian_network, queries=queries, evidence=evidence, iterations=10000))\n",
    "    print(estimate_metropolis_hastings(p=0.85, network=bayesian_network, queries=queries, evidence=evidence, iterations=10000))\n",
    "    print(estimate_metropolis_hastings(p=0.95, network=bayesian_network, queries=queries, evidence=evidence, iterations=10000))"
   ]
  },
  {
   "cell_type": "code",
   "execution_count": 26,
   "metadata": {},
   "outputs": [
    {
     "name": "stdout",
     "output_type": "stream",
     "text": [
      "[0.67567946 0.32432054]\n",
      "[0.66064759 0.33935241]\n",
      "[0.64406969 0.35593031]\n"
     ]
    }
   ],
   "source": [
    "import json\n",
    "\n",
    "queries = [1]\n",
    "evidence = {2:False}\n",
    "\n",
    "with open('bn_test_3.json') as f:\n",
    "    bayesian_network = json.load(f)\n",
    "    print(estimate_metropolis_hastings(p=0.75, network=bayesian_network, queries=queries, evidence=evidence, iterations=10000))\n",
    "    print(estimate_metropolis_hastings(p=0.85, network=bayesian_network, queries=queries, evidence=evidence, iterations=10000))\n",
    "    print(estimate_metropolis_hastings(p=0.95, network=bayesian_network, queries=queries, evidence=evidence, iterations=10000))"
   ]
  },
  {
   "cell_type": "code",
   "execution_count": null,
   "metadata": {},
   "outputs": [],
   "source": [
    "import json\n",
    "\n",
    "queries = [1, 3]\n",
    "evidence = {2:False, 5:True}\n",
    "\n",
    "with open('small_polytree.json') as f:\n",
    "    bayesian_network = json.load(f)\n",
    "    print(estimate_metropolis_hastings(p=0.75, network=bayesian_network, queries=queries, evidence=evidence, iterations=10000))\n",
    "    print(estimate_metropolis_hastings(p=0.85, network=bayesian_network, queries=queries, evidence=evidence, iterations=10000))\n",
    "    print(estimate_metropolis_hastings(p=0.95, network=bayesian_network, queries=queries, evidence=evidence, iterations=10000))"
   ]
  },
  {
   "cell_type": "code",
   "execution_count": null,
   "metadata": {},
   "outputs": [],
   "source": [
    "import json\n",
    "\n",
    "queries = [1, 3]\n",
    "evidence = {2:False, 5:True}\n",
    "\n",
    "with open('big_polytree.json') as f:\n",
    "    bayesian_network = json.load(f)\n",
    "    print(estimate_metropolis_hastings(p=0.75, network=bayesian_network, queries=queries, evidence=evidence, iterations=10000))\n",
    "    print(estimate_metropolis_hastings(p=0.85, network=bayesian_network, queries=queries, evidence=evidence, iterations=10000))\n",
    "    print(estimate_metropolis_hastings(p=0.95, network=bayesian_network, queries=queries, evidence=evidence, iterations=10000))"
   ]
  }
 ],
 "metadata": {
  "kernelspec": {
   "display_name": "venv",
   "language": "python",
   "name": "python3"
  },
  "language_info": {
   "codemirror_mode": {
    "name": "ipython",
    "version": 3
   },
   "file_extension": ".py",
   "mimetype": "text/x-python",
   "name": "python",
   "nbconvert_exporter": "python",
   "pygments_lexer": "ipython3",
   "version": "3.10.16"
  }
 },
 "nbformat": 4,
 "nbformat_minor": 2
}
