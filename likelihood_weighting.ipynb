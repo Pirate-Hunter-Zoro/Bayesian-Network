{
 "cells": [
  {
   "cell_type": "markdown",
   "metadata": {},
   "source": [
    "## Implementation of Likelihood Weighting to approximate probability queries from a Bayesian Network."
   ]
  },
  {
   "cell_type": "code",
   "execution_count": null,
   "metadata": {},
   "outputs": [],
   "source": [
    "import random\n",
    "import copy\n",
    "import numpy as np\n",
    "from bayesian_network_helper import topologically_sort\n",
    "from calculations_helper import find_corresponding_rows\n",
    "\n",
    "def estimate_likelihood_weighting(iterations: int, network: dict, queries: list[int], evidence: dict[int,bool]) -> np.array:\n",
    "    \"\"\"Use likelihood weighting to estimate the probability distribution of the given query variables\n",
    "\n",
    "    Args:\n",
    "        iterations (int): number of iterations where the variables are sampled and their counts are updated accordingly\n",
    "        network (dict): underlying bayesian network\n",
    "        queries (list[int]): list of query variables\n",
    "        evidence (dict[int,bool]): list of evidence variables and their values\n",
    "\n",
    "    Returns:\n",
    "        np.array: resulting probability distribution estimate for the query variables\n",
    "    \"\"\"\n",
    "    prob_distribution = np.zeros(shape=1<<len(queries))\n",
    "    \n",
    "    # we're going to need to sort all of our variables topologically, because that's the order that we'll need to set their values to\n",
    "    sorted_vars = topologically_sort(network=network)\n",
    "    \n",
    "    for _ in range(iterations):\n",
    "        current_evidence = copy.deepcopy(evidence)\n",
    "        # go through each non-evidence variable and assign it a value randomly according to its probability\n",
    "        weight = 1.0\n",
    "        for var in sorted_vars:\n",
    "            probabilities = [pair[1] for pair in network[str(var)][\"prob\"]]\n",
    "            parents = network[str(var)][\"parents\"]\n",
    "            prob_true = 0.0\n",
    "            if len(parents) > 0:\n",
    "                # look at the parents to determine probability of being true\n",
    "                row = find_corresponding_rows([1 if current_evidence[p] else 0 for p in parents], parents, parents)[0]\n",
    "                prob_true += probabilities[row]\n",
    "            else:\n",
    "                prob_true += probabilities[0]\n",
    "\n",
    "            # if the variable is in evidence, update the weight\n",
    "            if var in evidence.keys():\n",
    "                weight *= prob_true if evidence[var] else (1 - prob_true)\n",
    "            else: # otherwise set in the current evidence the value of this variable to be according to the probability given ancestors' values\n",
    "                current_evidence[var] = random.random() < prob_true\n",
    "            \n",
    "        query_values = [1 if current_evidence[q] else 0 for q in queries]\n",
    "        # find the entry in our probability distribution that corresponds with this combination of query values\n",
    "        posn = find_corresponding_rows(query_values, queries, queries)[0]\n",
    "        # update the distribution accordingly\n",
    "        prob_distribution[posn] += 1.0 * weight\n",
    "\n",
    "    return prob_distribution / np.sum(prob_distribution) # normalization into a probability"
   ]
  },
  {
   "cell_type": "code",
   "execution_count": 70,
   "metadata": {},
   "outputs": [
    {
     "name": "stdout",
     "output_type": "stream",
     "text": [
      "[0.69161109 0.30838891]\n"
     ]
    }
   ],
   "source": [
    "import json\n",
    "\n",
    "queries = [0]\n",
    "evidence = {3:True,4:True}\n",
    "\n",
    "with open('bn_test_1.json') as f:\n",
    "    bayesian_network = json.load(f)\n",
    "    print(estimate_likelihood_weighting(10000, bayesian_network, queries, evidence))"
   ]
  },
  {
   "cell_type": "code",
   "execution_count": 71,
   "metadata": {},
   "outputs": [
    {
     "name": "stdout",
     "output_type": "stream",
     "text": [
      "[0.33663523 0.09813912 0.11899487 0.44623077]\n"
     ]
    }
   ],
   "source": [
    "import json\n",
    "\n",
    "queries = [0, 3]\n",
    "evidence = {2:True}\n",
    "\n",
    "with open('bn_test_2.json') as f:\n",
    "    bayesian_network = json.load(f)\n",
    "    print(estimate_likelihood_weighting(10000, bayesian_network, queries, evidence))"
   ]
  },
  {
   "cell_type": "code",
   "execution_count": 72,
   "metadata": {},
   "outputs": [
    {
     "name": "stdout",
     "output_type": "stream",
     "text": [
      "[0.87712878 0.12287122]\n"
     ]
    }
   ],
   "source": [
    "import json\n",
    "\n",
    "queries = [1]\n",
    "evidence = {2:False}\n",
    "\n",
    "with open('bn_test_3.json') as f:\n",
    "    bayesian_network = json.load(f)\n",
    "    print(estimate_likelihood_weighting(10000, bayesian_network, queries, evidence))"
   ]
  }
 ],
 "metadata": {
  "kernelspec": {
   "display_name": "venv",
   "language": "python",
   "name": "python3"
  },
  "language_info": {
   "codemirror_mode": {
    "name": "ipython",
    "version": 3
   },
   "file_extension": ".py",
   "mimetype": "text/x-python",
   "name": "python",
   "nbconvert_exporter": "python",
   "pygments_lexer": "ipython3",
   "version": "3.10.16"
  }
 },
 "nbformat": 4,
 "nbformat_minor": 2
}
