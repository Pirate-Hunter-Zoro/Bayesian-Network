{
 "cells": [
  {
   "cell_type": "markdown",
   "metadata": {},
   "source": [
    "## Implementation of Likelihood Weighting to approximate probability queries from a Bayesian Network."
   ]
  },
  {
   "cell_type": "code",
   "execution_count": 2,
   "metadata": {},
   "outputs": [],
   "source": [
    "import numpy as np\n",
    "from calculations_helper import break_up_polytree, handle_dag_likelihood_weighting, join_distributions\n",
    "\n",
    "def estimate_likelihood_weighting(iterations: int, network: dict, queries: list[int], evidence: dict[int,bool]) -> np.array:\n",
    "    \"\"\"Use likelihood weighting to estimate the probability distribution of the given query variables\n",
    "\n",
    "    Args:\n",
    "        iterations (int): number of iterations where the variables are sampled and their counts are updated accordingly\n",
    "        network (dict): underlying bayesian network\n",
    "        queries (list[int]): list of query variables\n",
    "        evidence (dict[int,bool]): list of evidence variables and their values\n",
    "\n",
    "    Returns:\n",
    "        np.array: resulting probability distribution estimate for the query variables\n",
    "    \"\"\"\n",
    "    dag_map, query_collections, evidence_collections = break_up_polytree(network, queries, evidence)\n",
    "    \n",
    "    if len(dag_map) == 1:\n",
    "        # only one directed acyclic graph\n",
    "        return queries, handle_dag_likelihood_weighting(iterations, network, queries, evidence)\n",
    "    else:\n",
    "        # each directed acyclic graph will output a probability distribution - we must join them all and keep track of the variables present\n",
    "        reordered_queries = []\n",
    "        prob_distributions = []\n",
    "        for i, dag in dag_map.items():\n",
    "            these_queries = query_collections[i]\n",
    "            for v in these_queries:\n",
    "                reordered_queries.append(v)\n",
    "            this_evidence = {v:evidence[v] for v in evidence_collections[i]}\n",
    "            prob_distributions.append(handle_dag_likelihood_weighting(iterations, dag, these_queries, this_evidence))\n",
    "        return reordered_queries, join_distributions(prob_distributions)"
   ]
  },
  {
   "cell_type": "code",
   "execution_count": 3,
   "metadata": {},
   "outputs": [
    {
     "name": "stdout",
     "output_type": "stream",
     "text": [
      "([0], array([0.71907143, 0.28092857]))\n"
     ]
    }
   ],
   "source": [
    "import json\n",
    "\n",
    "queries = [0]\n",
    "evidence = {3:True,4:True}\n",
    "\n",
    "with open('bn_test_1.json') as f:\n",
    "    bayesian_network = json.load(f)\n",
    "    print(estimate_likelihood_weighting(10000, bayesian_network, queries, evidence))"
   ]
  },
  {
   "cell_type": "code",
   "execution_count": 4,
   "metadata": {},
   "outputs": [
    {
     "name": "stdout",
     "output_type": "stream",
     "text": [
      "([0, 3], array([0.27130039, 0.04670004, 0.13639991, 0.54559965]))\n"
     ]
    }
   ],
   "source": [
    "import json\n",
    "\n",
    "queries = [0, 3]\n",
    "evidence = {2:True}\n",
    "\n",
    "with open('bn_test_2.json') as f:\n",
    "    bayesian_network = json.load(f)\n",
    "    print(estimate_likelihood_weighting(10000, bayesian_network, queries, evidence))"
   ]
  },
  {
   "cell_type": "code",
   "execution_count": 5,
   "metadata": {},
   "outputs": [
    {
     "name": "stdout",
     "output_type": "stream",
     "text": [
      "([1], array([0.87794749, 0.12205251]))\n"
     ]
    }
   ],
   "source": [
    "import json\n",
    "\n",
    "queries = [1]\n",
    "evidence = {2:False}\n",
    "\n",
    "with open('bn_test_3.json') as f:\n",
    "    bayesian_network = json.load(f)\n",
    "    print(estimate_likelihood_weighting(10000, bayesian_network, queries, evidence))"
   ]
  },
  {
   "cell_type": "code",
   "execution_count": 6,
   "metadata": {},
   "outputs": [
    {
     "name": "stdout",
     "output_type": "stream",
     "text": [
      "([1, 3], array([7.22792169e-04, 9.36394791e-01, 2.95154573e-03, 5.99308709e-02]))\n"
     ]
    }
   ],
   "source": [
    "import json\n",
    "\n",
    "queries = [1, 3]\n",
    "evidence = {2:False, 5:True}\n",
    "\n",
    "with open('small_polytree.json') as f:\n",
    "    bayesian_network = json.load(f)\n",
    "    print(estimate_likelihood_weighting(10000, bayesian_network, queries, evidence))"
   ]
  },
  {
   "cell_type": "code",
   "execution_count": 7,
   "metadata": {},
   "outputs": [
    {
     "name": "stdout",
     "output_type": "stream",
     "text": [
      "([1, 3], array([0.73475573, 0.07968897, 0.16854277, 0.01701253]))\n"
     ]
    }
   ],
   "source": [
    "import json\n",
    "\n",
    "queries = [1, 3]\n",
    "evidence = {2:False, 5:True}\n",
    "\n",
    "with open('big_polytree.json') as f:\n",
    "    bayesian_network = json.load(f)\n",
    "    print(estimate_likelihood_weighting(10000, bayesian_network, queries, evidence))"
   ]
  }
 ],
 "metadata": {
  "kernelspec": {
   "display_name": "venv",
   "language": "python",
   "name": "python3"
  },
  "language_info": {
   "codemirror_mode": {
    "name": "ipython",
    "version": 3
   },
   "file_extension": ".py",
   "mimetype": "text/x-python",
   "name": "python",
   "nbconvert_exporter": "python",
   "pygments_lexer": "ipython3",
   "version": "3.10.16"
  }
 },
 "nbformat": 4,
 "nbformat_minor": 2
}
