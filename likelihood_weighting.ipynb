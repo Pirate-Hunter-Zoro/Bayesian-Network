{
 "cells": [
  {
   "cell_type": "markdown",
   "metadata": {},
   "source": [
    "## Implementation of Likelihood Weighting to approximate probability queries from a Bayesian Network."
   ]
  },
  {
   "cell_type": "code",
   "execution_count": null,
   "metadata": {},
   "outputs": [],
   "source": [
    "import random\n",
    "import numpy as np\n",
    "from bayesian_network_helper import topologically_sort, get_ancestors\n",
    "from calculations_helper import find_corresponding_rows, calculate_probability\n",
    "\n",
    "def estimate_likelihood_weighting(iterations: int, network: dict, queries: list[int], evidence: dict[int,bool]) -> np.array:\n",
    "    \"\"\"Use likelihood weighting to estimate the probability distribution of the given query variables\n",
    "\n",
    "    Args:\n",
    "        iterations (int): number of iterations where the variables are sampled and their counts are updated accordingly\n",
    "        network (dict): underlying bayesian network\n",
    "        queries (list[int]): list of query variables\n",
    "        evidence (dict[int,bool]): list of evidence variables and their values\n",
    "\n",
    "    Returns:\n",
    "        np.array: resulting probability distribution estimate for the query variables\n",
    "    \"\"\"\n",
    "    prob_distribution = np.zeros(shape=1<<len(queries))\n",
    "    \n",
    "    # we're going to need to sort all of our variables topologically, because that's the order that we'll need to set their values to\n",
    "    sorted_vars = topologically_sort(network=network)\n",
    "    \n",
    "    # we will also need a map of variables to their ancestors\n",
    "    ancestors = get_ancestors(network=network)\n",
    "\n",
    "    current_evidence = evidence\n",
    "    for _ in range(iterations):\n",
    "        # go through each non-evidence variable and assign it a value randomly according to its probability\n",
    "        weight = 1.0\n",
    "        for var in sorted_vars:\n",
    "            if var in evidence.keys():\n",
    "                # weight based on probability\n",
    "                # TODO\n",
    "                pass\n",
    "            else:\n",
    "                prob_true = calculate_probability(var, current_evidence, network)\n",
    "                current_evidence[var] = random.random() < prob_true\n",
    "        "
   ]
  }
 ],
 "metadata": {
  "kernelspec": {
   "display_name": "venv",
   "language": "python",
   "name": "python3"
  },
  "language_info": {
   "name": "python",
   "version": "3.10.16"
  }
 },
 "nbformat": 4,
 "nbformat_minor": 2
}
