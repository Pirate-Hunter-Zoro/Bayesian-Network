{
 "cells": [
  {
   "cell_type": "markdown",
   "metadata": {},
   "source": [
    "## Implementation of Likelihood Weighting to approximate probability queries from a Bayesian Network."
   ]
  },
  {
   "cell_type": "code",
   "execution_count": null,
   "metadata": {},
   "outputs": [],
   "source": [
    "import copy\n",
    "import numpy as np\n",
    "from bayesian_network_helper import topologically_sort\n",
    "from calculations_helper import perform_likelihood_weighting\n",
    "\n",
    "def estimate_likelihood_weighting(iterations: int, network: dict, queries: list[int], evidence: dict[int,bool]) -> np.array:\n",
    "    \"\"\"Use likelihood weighting to estimate the probability distribution of the given query variables\n",
    "\n",
    "    Args:\n",
    "        iterations (int): number of iterations where the variables are sampled and their counts are updated accordingly\n",
    "        network (dict): underlying bayesian network\n",
    "        queries (list[int]): list of query variables\n",
    "        evidence (dict[int,bool]): list of evidence variables and their values\n",
    "\n",
    "    Returns:\n",
    "        np.array: resulting probability distribution estimate for the query variables\n",
    "    \"\"\"\n",
    "    prob_distribution = np.zeros(shape=1<<len(queries))\n",
    "    \n",
    "    # we're going to need to sort all of our variables topologically, because that's the order that we'll need to set their values to\n",
    "    sorted_vars = topologically_sort(network=network)\n",
    "    \n",
    "    for _ in range(iterations):\n",
    "        current_evidence = copy.deepcopy(evidence)\n",
    "        # go through each non-evidence variable and assign it a value randomly according to its probability\n",
    "        weight, posn = perform_likelihood_weighting(network, sorted_vars, queries, evidence, current_evidence)\n",
    "        # update the distribution accordingly\n",
    "        prob_distribution[posn] += weight\n",
    "\n",
    "    return prob_distribution / np.sum(prob_distribution) # normalization into a probability"
   ]
  },
  {
   "cell_type": "code",
   "execution_count": 25,
   "metadata": {},
   "outputs": [
    {
     "name": "stdout",
     "output_type": "stream",
     "text": [
      "[0.71802268 0.28197732]\n"
     ]
    }
   ],
   "source": [
    "import json\n",
    "\n",
    "queries = [0]\n",
    "evidence = {3:True,4:True}\n",
    "\n",
    "with open('bn_test_1.json') as f:\n",
    "    bayesian_network = json.load(f)\n",
    "    print(estimate_likelihood_weighting(10000, bayesian_network, queries, evidence))"
   ]
  },
  {
   "cell_type": "code",
   "execution_count": 27,
   "metadata": {},
   "outputs": [
    {
     "name": "stdout",
     "output_type": "stream",
     "text": [
      "[0.34559613 0.08646617 0.09465628 0.47328142]\n"
     ]
    }
   ],
   "source": [
    "import json\n",
    "\n",
    "queries = [0, 3]\n",
    "evidence = {2:True}\n",
    "\n",
    "with open('bn_test_2.json') as f:\n",
    "    bayesian_network = json.load(f)\n",
    "    print(estimate_likelihood_weighting(10000, bayesian_network, queries, evidence))"
   ]
  },
  {
   "cell_type": "code",
   "execution_count": 28,
   "metadata": {},
   "outputs": [
    {
     "name": "stdout",
     "output_type": "stream",
     "text": [
      "[0.87857625 0.12142375]\n"
     ]
    }
   ],
   "source": [
    "import json\n",
    "\n",
    "queries = [1]\n",
    "evidence = {2:False}\n",
    "\n",
    "with open('bn_test_3.json') as f:\n",
    "    bayesian_network = json.load(f)\n",
    "    print(estimate_likelihood_weighting(10000, bayesian_network, queries, evidence))"
   ]
  },
  {
   "cell_type": "code",
   "execution_count": null,
   "metadata": {},
   "outputs": [],
   "source": [
    "import json\n",
    "\n",
    "queries = [1, 3]\n",
    "evidence = {2:False, 5:True}\n",
    "\n",
    "with open('small_polytree.json') as f:\n",
    "    bayesian_network = json.load(f)\n",
    "    print(estimate_likelihood_weighting(10000, bayesian_network, queries, evidence))"
   ]
  },
  {
   "cell_type": "code",
   "execution_count": null,
   "metadata": {},
   "outputs": [],
   "source": [
    "import json\n",
    "\n",
    "queries = [1, 3]\n",
    "evidence = {2:False, 5:True}\n",
    "\n",
    "with open('big_polytree.json') as f:\n",
    "    bayesian_network = json.load(f)\n",
    "    print(estimate_likelihood_weighting(10000, bayesian_network, queries, evidence))"
   ]
  }
 ],
 "metadata": {
  "kernelspec": {
   "display_name": "venv",
   "language": "python",
   "name": "python3"
  },
  "language_info": {
   "codemirror_mode": {
    "name": "ipython",
    "version": 3
   },
   "file_extension": ".py",
   "mimetype": "text/x-python",
   "name": "python",
   "nbconvert_exporter": "python",
   "pygments_lexer": "ipython3",
   "version": "3.10.16"
  }
 },
 "nbformat": 4,
 "nbformat_minor": 2
}
