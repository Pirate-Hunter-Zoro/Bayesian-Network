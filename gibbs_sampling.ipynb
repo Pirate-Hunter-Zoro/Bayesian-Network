{
 "cells": [
  {
   "cell_type": "markdown",
   "metadata": {},
   "source": [
    "## Implementation of Gibbs Sampling to approximate probability queries from a Bayesian Network."
   ]
  },
  {
   "cell_type": "code",
   "execution_count": 1,
   "metadata": {},
   "outputs": [],
   "source": [
    "import numpy as np\n",
    "from calculations_helper import break_up_polytree, handle_dag_gibbs_sampling, join_distributions\n",
    "\n",
    "def estimate_gibbs(iterations: int, network: dict, queries: list[int], evidence: dict[int,bool]) -> np.array:\n",
    "    \"\"\"Generate an estimate for the probability distribution for a given set of query variables and evidence values\n",
    "\n",
    "    Args:\n",
    "        iterations (int): number of samples to take before we go with the estimate\n",
    "        network (dict): underlying bayesian network\n",
    "        queries (list[int]): list of query variables\n",
    "        evidence (dict[int,bool]): list of evidence variables with their respective values\n",
    "\n",
    "    Returns:\n",
    "        np.array: estimated probability distribution for the different combinations the query variables can take on\n",
    "    \"\"\"\n",
    "    dag_map, query_collections, evidence_collections = break_up_polytree(network, queries, evidence)\n",
    "    \n",
    "    if len(dag_map) == 1:\n",
    "        # only one directed acyclic graph\n",
    "        return queries, handle_dag_gibbs_sampling(iterations, network, queries, evidence)\n",
    "    else:\n",
    "        # each directed acyclic graph will output a probability distribution - we must join them all and keep track of the variables present\n",
    "        reordered_queries = []\n",
    "        prob_distributions = []\n",
    "        for i, dag in dag_map.items():\n",
    "            these_queries = query_collections[i]\n",
    "            for v in these_queries:\n",
    "                reordered_queries.append(v)\n",
    "            this_evidence = {v:evidence[v] for v in evidence_collections[i]}\n",
    "            prob_distributions.append(handle_dag_gibbs_sampling(iterations, dag, these_queries, this_evidence))\n",
    "        return reordered_queries, join_distributions(prob_distributions)"
   ]
  },
  {
   "cell_type": "code",
   "execution_count": 2,
   "metadata": {},
   "outputs": [
    {
     "name": "stdout",
     "output_type": "stream",
     "text": [
      "Variables=[1, 3]\n",
      "Probabilities=[1.000e-04 9.494e-01 5.900e-03 4.460e-02]\n",
      "Runtime=0.5411861250031507\n",
      "\n",
      "\n",
      "Variables=[4, 5, 7]\n",
      "Probabilities=[0.0812 0.0411 0.0025 0.0015 0.5153 0.3278 0.0194 0.0112]\n",
      "Runtime=0.5305484999989858\n",
      "\n",
      "\n",
      "Variables=[2, 6, 10, 12]\n",
      "Probabilities=[0.01087731 0.00622269 0.02563483 0.01466517 0.01284922 0.00735078\n",
      " 0.0260801  0.0149199  0.07741337 0.04428663 0.25221365 0.14428635\n",
      " 0.05400489 0.03089511 0.17702663 0.10127337]\n",
      "Runtime=0.7587917920027394\n",
      "\n",
      "\n"
     ]
    }
   ],
   "source": [
    "import json\n",
    "import time\n",
    "\n",
    "query_list = [[1, 3], [4, 5, 7], [2,6,10,12]]\n",
    "evidence_list = [{2:False, 5:True}, {2:True, 3:False, 6:False}, {3:False, 4:False, 5:True, 15:True}]\n",
    "\n",
    "times = []\n",
    "results = []\n",
    "\n",
    "for queries,evidence in zip(query_list,evidence_list):\n",
    "    with open('small_polytree.json') as f:\n",
    "        bayesian_network = json.load(f)\n",
    "        start_time = time.perf_counter()\n",
    "        results.append(estimate_gibbs(10000, bayesian_network, queries, evidence))\n",
    "        end_time = time.perf_counter()\n",
    "        times.append(end_time-start_time)\n",
    "for res, t in zip(results, times):\n",
    "    print(f\"Variables={res[0]}\\nProbabilities={res[1]}\\nRuntime={t}\\n\\n\")"
   ]
  },
  {
   "cell_type": "code",
   "execution_count": 3,
   "metadata": {},
   "outputs": [
    {
     "name": "stdout",
     "output_type": "stream",
     "text": [
      "Variables=[1, 3]\n",
      "Probabilities=[0.7564 0.014  0.2142 0.0154]\n",
      "Runtime=1.7315806249971502\n",
      "\n",
      "\n",
      "Variables=[4, 5, 7]\n",
      "Probabilities=[0.4291 0.3506 0.052  0.0245 0.0916 0.0355 0.01   0.0067]\n",
      "Runtime=1.6774743749992922\n",
      "\n",
      "\n",
      "Variables=[2, 6, 10, 12]\n",
      "Probabilities=[1.460e-02 3.000e-04 1.944e-01 8.770e-02 9.000e-03 2.700e-03 4.644e-01\n",
      " 1.122e-01 3.900e-03 0.000e+00 1.920e-02 1.320e-02 1.500e-03 0.000e+00\n",
      " 6.820e-02 8.700e-03]\n",
      "Runtime=1.7536008749884786\n",
      "\n",
      "\n"
     ]
    }
   ],
   "source": [
    "import json\n",
    "import time\n",
    "\n",
    "query_list = [[1, 3], [4, 5, 7], [2,6,10,12]]\n",
    "evidence_list = [{2:False, 5:True}, {2:True, 3:False, 6:False}, {3:False, 4:False, 5:True, 15:True}]\n",
    "\n",
    "times = []\n",
    "results = []\n",
    "\n",
    "for queries,evidence in zip(query_list,evidence_list):\n",
    "    with open('big_polytree.json') as f:\n",
    "        bayesian_network = json.load(f)\n",
    "        start_time = time.perf_counter()\n",
    "        results.append(estimate_gibbs(10000, bayesian_network, queries, evidence))\n",
    "        end_time = time.perf_counter()\n",
    "        times.append(end_time-start_time)\n",
    "for res, t in zip(results, times):\n",
    "    print(f\"Variables={res[0]}\\nProbabilities={res[1]}\\nRuntime={t}\\n\\n\")"
   ]
  },
  {
   "cell_type": "code",
   "execution_count": 4,
   "metadata": {},
   "outputs": [
    {
     "name": "stdout",
     "output_type": "stream",
     "text": [
      "Variables=[1, 3]\n",
      "Probabilities=[0.1278 0.7523 0.069  0.0509]\n",
      "Runtime=3.353126333997352\n",
      "\n",
      "\n",
      "Variables=[4, 5, 7]\n",
      "Probabilities=[0.1    0.0082 0.3992 0.0087 0.144  0.0117 0.3248 0.0034]\n",
      "Runtime=3.300671583012445\n",
      "\n",
      "\n",
      "Variables=[2, 6, 10, 12]\n",
      "Probabilities=[0.039  0.0011 0.0114 0.0027 0.1936 0.0152 0.092  0.0409 0.0728 0.0117\n",
      " 0.1395 0.0139 0.1958 0.022  0.1334 0.015 ]\n",
      "Runtime=3.4004718749929452\n",
      "\n",
      "\n"
     ]
    }
   ],
   "source": [
    "import json\n",
    "import time\n",
    "\n",
    "query_list = [[1, 3], [4, 5, 7], [2,6,10,12]]\n",
    "evidence_list = [{2:False, 5:True}, {2:True, 3:False, 6:False}, {3:False, 4:False, 5:True, 15:True}]\n",
    "\n",
    "times = []\n",
    "results = []\n",
    "\n",
    "for queries,evidence in zip(query_list,evidence_list):\n",
    "    with open('giant_polytree.json') as f:\n",
    "        bayesian_network = json.load(f)\n",
    "        start_time = time.perf_counter()\n",
    "        results.append(estimate_gibbs(10000, bayesian_network, queries, evidence))\n",
    "        end_time = time.perf_counter()\n",
    "        times.append(end_time-start_time)\n",
    "for res, t in zip(results, times):\n",
    "    print(f\"Variables={res[0]}\\nProbabilities={res[1]}\\nRuntime={t}\\n\\n\")"
   ]
  }
 ],
 "metadata": {
  "kernelspec": {
   "display_name": "venv",
   "language": "python",
   "name": "python3"
  },
  "language_info": {
   "codemirror_mode": {
    "name": "ipython",
    "version": 3
   },
   "file_extension": ".py",
   "mimetype": "text/x-python",
   "name": "python",
   "nbconvert_exporter": "python",
   "pygments_lexer": "ipython3",
   "version": "3.10.16"
  }
 },
 "nbformat": 4,
 "nbformat_minor": 2
}
