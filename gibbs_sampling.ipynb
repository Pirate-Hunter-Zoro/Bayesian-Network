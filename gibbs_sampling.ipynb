{
 "cells": [
  {
   "cell_type": "markdown",
   "metadata": {},
   "source": [
    "## Implementation of Gibbs Sampling to approximate probability queries from a Bayesian Network."
   ]
  },
  {
   "cell_type": "code",
   "execution_count": 8,
   "metadata": {},
   "outputs": [],
   "source": [
    "import random\n",
    "import numpy as np\n",
    "from calculations_helper import create_factors, join_factors, find_corresponding_rows\n",
    "\n",
    "def estimate_gibbs(iterations: int, network: dict, queries: list[int], evidence: dict[int,bool]) -> np.array:\n",
    "    \"\"\"Generate an estimate for the probability distribution for a given set of query variables and evidence values\n",
    "\n",
    "    Args:\n",
    "        iterations (int): number of samples to take before we go with the estimate\n",
    "        network (dict): underlying bayesian network\n",
    "        queries (list[int]): list of query variables\n",
    "        evidence (dict[int,bool]): list of evidence variables with their respective values\n",
    "\n",
    "    Returns:\n",
    "        np.array: estimated probability distribution for the different combinations the query variables can take on\n",
    "    \"\"\"\n",
    "    prob_distribution = np.zeros(shape=1<<len(queries))\n",
    "    \n",
    "    # create list of non-evidence variables\n",
    "    non_evidence_variables = [int(i) for i in network.keys() if int(i) not in evidence.keys()]\n",
    "\n",
    "    # create a helper function to find the probability of a certain variable taking on a value given we know other variables\n",
    "    def calculate_probability(var: int, others: dict[int,bool]) -> float:\n",
    "        \"\"\"Given a variable and set values for all other variables in the above Bayesian Network, calculate the the probability of var being true\n",
    "\n",
    "        Args:\n",
    "            var (int): variable in question\n",
    "            others (dict[int,bool]): all other variable values\n",
    "\n",
    "        Returns:\n",
    "            bool: probability that var is true given all other variable values\n",
    "        \"\"\"\n",
    "        # join on the factors that matter to var\n",
    "        factor_idx_to_factor, var_to_factor_indices = create_factors(network=network, evidence=others) \n",
    "        # the following result should be a 2D vector - var is False or var is True\n",
    "        var_distribution = join_factors(var, eliminate=False, relevant_factors=[factor_idx_to_factor[i] for i in var_to_factor_indices[var]])[1]\n",
    "        var_distribution = var_distribution / np.sum(var_distribution)\n",
    "        return var_distribution[1] # probability of var being true\n",
    "    \n",
    "    current_evidence = evidence\n",
    "    # randomly initialize all the variables\n",
    "    for v in non_evidence_variables:\n",
    "        current_evidence[v] = (random.random() < 0.5)\n",
    "\n",
    "    for _ in range(iterations):\n",
    "        # perform the Gibbs algorithm this many times\n",
    "        var_to_change = non_evidence_variables[int(random.random()*len(non_evidence_variables))]\n",
    "        del current_evidence[var_to_change]\n",
    "        # simulate the probability of var_to_change being true given everything else\n",
    "        p = calculate_probability(var_to_change, current_evidence)\n",
    "        current_evidence[var_to_change] = (random.random() < p)\n",
    "        # see how our queries showed up\n",
    "        query_values = [1 if current_evidence[q] else 0 for q in queries]\n",
    "        # find the entry in our probability distribution that corresponds with this combination of query values\n",
    "        posn = find_corresponding_rows(query_values, queries, queries)[0]\n",
    "        # update the distribution accordingly\n",
    "        prob_distribution[posn] += 1.0\n",
    "\n",
    "    return prob_distribution / iterations # normalization into a probability"
   ]
  },
  {
   "cell_type": "code",
   "execution_count": 9,
   "metadata": {},
   "outputs": [
    {
     "name": "stdout",
     "output_type": "stream",
     "text": [
      "[0.696 0.304]\n"
     ]
    }
   ],
   "source": [
    "import json\n",
    "\n",
    "queries = [0]\n",
    "evidence = {3:True,4:True}\n",
    "\n",
    "with open('bn_test_1.json') as f:\n",
    "    bayesian_network = json.load(f)\n",
    "    print(estimate_gibbs(1000, bayesian_network, queries, evidence))"
   ]
  },
  {
   "cell_type": "code",
   "execution_count": 10,
   "metadata": {},
   "outputs": [
    {
     "name": "stdout",
     "output_type": "stream",
     "text": [
      "[0.34  0.047 0.1   0.513]\n"
     ]
    }
   ],
   "source": [
    "import json\n",
    "\n",
    "queries = [0, 3]\n",
    "evidence = {2:True}\n",
    "\n",
    "with open('bn_test_2.json') as f:\n",
    "    bayesian_network = json.load(f)\n",
    "    print(estimate_gibbs(1000, bayesian_network, queries, evidence))"
   ]
  },
  {
   "cell_type": "code",
   "execution_count": 11,
   "metadata": {},
   "outputs": [
    {
     "name": "stdout",
     "output_type": "stream",
     "text": [
      "[0.842 0.158]\n"
     ]
    }
   ],
   "source": [
    "import json\n",
    "\n",
    "queries = [1]\n",
    "evidence = {2:False}\n",
    "\n",
    "with open('bn_test_3.json') as f:\n",
    "    bayesian_network = json.load(f)\n",
    "    print(estimate_gibbs(1000, bayesian_network, queries, evidence))"
   ]
  }
 ],
 "metadata": {
  "kernelspec": {
   "display_name": "venv",
   "language": "python",
   "name": "python3"
  },
  "language_info": {
   "codemirror_mode": {
    "name": "ipython",
    "version": 3
   },
   "file_extension": ".py",
   "mimetype": "text/x-python",
   "name": "python",
   "nbconvert_exporter": "python",
   "pygments_lexer": "ipython3",
   "version": "3.10.16"
  }
 },
 "nbformat": 4,
 "nbformat_minor": 2
}
